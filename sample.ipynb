{
 "cells": [
  {
   "cell_type": "markdown",
   "id": "83c095e8-b318-46f8-bdaf-8e9b83999f5a",
   "metadata": {},
   "source": [
    "# Walkthru2 SAMPLE notebook"
   ]
  },
  {
   "cell_type": "markdown",
   "id": "14c3c0c8-5fae-4902-820a-ba6358274c40",
   "metadata": {},
   "source": [
    "Here is how I calculate `1 + 1`"
   ]
  },
  {
   "cell_type": "code",
   "execution_count": 1,
   "id": "d59a81ae-f831-4394-8b83-baef062b1fa7",
   "metadata": {},
   "outputs": [
    {
     "data": {
      "text/plain": [
       "2"
      ]
     },
     "execution_count": 1,
     "metadata": {},
     "output_type": "execute_result"
    }
   ],
   "source": [
    "1+1"
   ]
  },
  {
   "cell_type": "code",
   "execution_count": 2,
   "id": "20b86616-72d3-45a8-8b14-ff78f2f951fa",
   "metadata": {},
   "outputs": [],
   "source": [
    "from numpy import *"
   ]
  },
  {
   "cell_type": "markdown",
   "id": "d3d37d4f-adea-46a7-80e4-64080a7ef36e",
   "metadata": {},
   "source": [
    "Here is how I calculate `sin`:"
   ]
  },
  {
   "cell_type": "code",
   "execution_count": 4,
   "id": "4276a812-b84c-4167-a556-2b486160bd11",
   "metadata": {},
   "outputs": [
    {
     "data": {
      "text/plain": [
       "array([0.84147098, 1.        ])"
      ]
     },
     "execution_count": 4,
     "metadata": {},
     "output_type": "execute_result"
    }
   ],
   "source": [
    "a = array ([1.0, pi/2])\n",
    "sin(a)"
   ]
  },
  {
   "cell_type": "code",
   "execution_count": null,
   "id": "b8769b4a-1f08-4f89-a716-6151a5cd121c",
   "metadata": {},
   "outputs": [],
   "source": []
  }
 ],
 "metadata": {
  "kernelspec": {
   "display_name": "Python 3 (ipykernel)",
   "language": "python",
   "name": "python3"
  },
  "language_info": {
   "codemirror_mode": {
    "name": "ipython",
    "version": 3
   },
   "file_extension": ".py",
   "mimetype": "text/x-python",
   "name": "python",
   "nbconvert_exporter": "python",
   "pygments_lexer": "ipython3",
   "version": "3.10.6"
  },
  "toc-autonumbering": true
 },
 "nbformat": 4,
 "nbformat_minor": 5
}
